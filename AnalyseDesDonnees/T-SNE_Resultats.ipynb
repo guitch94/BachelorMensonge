{
 "cells": [
  {
   "cell_type": "code",
   "execution_count": 1,
   "metadata": {},
   "outputs": [],
   "source": [
    "from __future__ import print_function\n",
    "import time\n",
    "import numpy as np\n",
    "import pandas as pd\n",
    "import seaborn as sns\n",
    "import sys\n",
    "import matplotlib.pyplot as plt\n",
    "import os\n",
    "\n",
    "\n",
    "from sklearn.datasets import fetch_openml\n",
    "from sklearn.decomposition import PCA\n",
    "from sklearn.manifold import TSNE\n",
    "\n",
    "from mpl_toolkits.mplot3d import Axes3D\n"
   ]
  },
  {
   "cell_type": "code",
   "execution_count": 2,
   "metadata": {},
   "outputs": [],
   "source": [
    "NB_MULTI_TAB = 10\n",
    "NB_FRAME = 15\n",
    "NB_ZONE_VISAGE = 17\n",
    "PATH = \"Resultats/\"\n",
    "\n",
    "def recupResultats(path, videoName):\n",
    "\n",
    "    fichier = open(path + videoName, \"r\")\n",
    "    strRes = fichier.read()\n",
    "    debutMultiTab = 0\n",
    "\n",
    "    resultats = np.empty([NB_MULTI_TAB, NB_ZONE_VISAGE, NB_FRAME])\n",
    "\n",
    "    for i in range(NB_MULTI_TAB):\n",
    "        debutMultiTab = strRes.find(\"[[\", debutMultiTab + 1)\n",
    "        debutTab = 0\n",
    "        finTab = 0\n",
    "        for j in range(NB_ZONE_VISAGE):\n",
    "            if j == 0:\n",
    "                debutTab = strRes.find(\"[\", debutMultiTab + debutTab + 1)\n",
    "                finTab = strRes.find(\"]\", debutMultiTab + finTab + 2)\n",
    "            else:\n",
    "                debutTab = strRes.find(\"[\", debutTab + 1)\n",
    "                finTab = strRes.find(\"]\", finTab + 2)\n",
    "\n",
    "            resultats[i][j] = np.fromstring(strRes[debutTab + 1: finTab], dtype=float, sep=' ')\n",
    "\n",
    "    fichier.close()\n",
    "    return resultats\n",
    "\n",
    "def recupMaxParZone(resultats,ok):\n",
    "\n",
    "    maxParZone = np.empty([NB_ZONE_VISAGE, NB_MULTI_TAB])\n",
    "    for i in range(NB_MULTI_TAB):\n",
    "        for j in range(NB_ZONE_VISAGE):\n",
    "            maxParZone[j][i] = np.max(resultats[i][j])\n",
    "    return maxParZone"
   ]
  },
  {
   "cell_type": "code",
   "execution_count": 3,
   "metadata": {},
   "outputs": [],
   "source": [
    "lstVideo = os.listdir(PATH)\n",
    "lstVideo.sort()\n",
    "lstResultats = np.empty([len(lstVideo),NB_MULTI_TAB, NB_ZONE_VISAGE, NB_FRAME])\n",
    "lstMaxParZone = np.empty([len(lstVideo), NB_ZONE_VISAGE, NB_MULTI_TAB])\n",
    "y = [''] * len(lstVideo)\n",
    "for i, video in enumerate(lstVideo):\n",
    "    lstResultats[i] = recupResultats(PATH,video)\n",
    "    lstMaxParZone[i] = recupMaxParZone(lstResultats[i], i)\n",
    "    y[i] = video[0]"
   ]
  },
  {
   "cell_type": "code",
   "execution_count": 4,
   "metadata": {},
   "outputs": [
    {
     "name": "stdout",
     "output_type": "stream",
     "text": [
      "Size of the dataframe: (37, 172)\n",
      "   Max_1_Zone_1  Max_2_Zone_1  Max_3_Zone_1  Max_4_Zone_1  Max_5_Zone_1  \\\n",
      "0      0.381429      0.152317      0.180942      0.247846      0.164647   \n",
      "\n",
      "   Max_6_Zone_1  Max_7_Zone_1  Max_8_Zone_1  Max_9_Zone_1  Max_10_Zone_1  \\\n",
      "0      0.205683      0.637107      0.143644      0.432086       0.222769   \n",
      "\n",
      "   ...    Max_3_Zone_17  Max_4_Zone_17  Max_5_Zone_17  Max_6_Zone_17  \\\n",
      "0  ...         0.935689       0.378657       0.141705       0.109069   \n",
      "\n",
      "   Max_7_Zone_17  Max_8_Zone_17  Max_9_Zone_17  Max_10_Zone_17  y  label  \n",
      "0       0.566802       0.920296       0.426578        0.308639  M      M  \n",
      "\n",
      "[1 rows x 172 columns]\n"
     ]
    }
   ],
   "source": [
    "feat_cols = [\"\"] * 170\n",
    "for i in range(NB_ZONE_VISAGE):\n",
    "    for j in range(NB_MULTI_TAB):\n",
    "            feat_cols[i * NB_MULTI_TAB + j] = \"Max_\" + str(j + 1) + \"_Zone_\" + str(i + 1)\n",
    "lstMaxParZone = lstMaxParZone.reshape(len(lstMaxParZone), NB_MULTI_TAB * NB_ZONE_VISAGE)\n",
    "df = pd.DataFrame(lstMaxParZone,columns=feat_cols)\n",
    "df['y'] = y\n",
    "df['label'] = df['y'].apply(lambda i: str(i))\n",
    "#lstMaxParZone, y = None, None\n",
    "print('Size of the dataframe: {}'.format(df.shape))\n",
    "print(df[0:1])"
   ]
  },
  {
   "cell_type": "code",
   "execution_count": 11,
   "metadata": {},
   "outputs": [
    {
     "name": "stdout",
     "output_type": "stream",
     "text": [
      "[t-SNE] Computing 36 nearest neighbors...\n",
      "[t-SNE] Indexed 37 samples in 0.000s...\n",
      "[t-SNE] Computed neighbors for 37 samples in 0.002s...\n",
      "[t-SNE] Computed conditional probabilities for sample 37 / 37\n",
      "[t-SNE] Mean sigma: 23.418335\n",
      "[t-SNE] KL divergence after 250 iterations with early exaggeration: 46.140282\n",
      "[t-SNE] KL divergence after 1000 iterations: 0.452777\n",
      "t-SNE done! Time elapsed: 0.2723045349121094 seconds\n"
     ]
    }
   ],
   "source": [
    "time_start = time.time()\n",
    "tsne = TSNE(n_components=2, verbose=1, perplexity=30, n_iter=1000)\n",
    "tsne_results = tsne.fit_transform(lstMaxParZone)\n",
    "print('t-SNE done! Time elapsed: {} seconds'.format(time.time()-time_start))"
   ]
  },
  {
   "cell_type": "code",
   "execution_count": 12,
   "metadata": {},
   "outputs": [
    {
     "data": {
      "text/plain": [
       "<matplotlib.axes._subplots.AxesSubplot at 0x1df46b46f60>"
      ]
     },
     "execution_count": 12,
     "metadata": {},
     "output_type": "execute_result"
    },
    {
     "data": {
      "image/png": "[encoded data removed]",
      "text/plain": [
       "<Figure size 1152x720 with 1 Axes>"
      ]
     },
     "metadata": {
      "needs_background": "light"
     },
     "output_type": "display_data"
    }
   ],
   "source": [
    "df['tsne-2d-one'] = tsne_results[:,0]\n",
    "df['tsne-2d-two'] = tsne_results[:,1]\n",
    "plt.figure(figsize=(16,10))\n",
    "sns.scatterplot(\n",
    "    x=\"tsne-2d-one\", y=\"tsne-2d-two\",\n",
    "    hue=\"y\",\n",
    "    palette=sns.color_palette(\"hls\", 2),\n",
    "    data=df,\n",
    "    legend=\"full\",\n",
    "    alpha=0.3\n",
    ")"
   ]
  },
  {
   "cell_type": "code",
   "execution_count": 8,
   "metadata": {},
   "outputs": [],
   "source": [
    "np.random.seed(42)\n",
    "rndperm = np.random.permutation(df.shape[0])\n",
    "N = 37\n",
    "df_subset = df.loc[rndperm[:N],:].copy()\n",
    "data_subset = df_subset[feat_cols].values\n"
   ]
  },
  {
   "cell_type": "code",
   "execution_count": 9,
   "metadata": {},
   "outputs": [
    {
     "name": "stdout",
     "output_type": "stream",
     "text": [
      "[t-SNE] Computing 36 nearest neighbors...\n",
      "[t-SNE] Indexed 37 samples in 0.000s...\n",
      "[t-SNE] Computed neighbors for 37 samples in 0.000s...\n",
      "[t-SNE] Computed conditional probabilities for sample 37 / 37\n",
      "[t-SNE] Mean sigma: 1125899906842624.000000\n",
      "[t-SNE] KL divergence after 250 iterations with early exaggeration: 43.917931\n",
      "[t-SNE] KL divergence after 300 iterations: 0.608849\n",
      "[[ -21.506233    95.71067  ]\n",
      " [  87.1075       3.4753106]\n",
      " [ 149.45525     25.277227 ]\n",
      " [ -72.354935   -20.404587 ]\n",
      " [ 125.14157   -122.460434 ]\n",
      " [  42.907207   -90.71329  ]\n",
      " [  23.004652   -58.30629  ]\n",
      " [ -46.07016     13.915055 ]\n",
      " [  69.303635    40.796574 ]]\n",
      "t-SNE done! Time elapsed: 0.08872461318969727 seconds\n"
     ]
    }
   ],
   "source": [
    "time_start = time.time()\n",
    "tsne = TSNE(n_components=2, verbose=1, perplexity=40, n_iter=300)\n",
    "tsne_results = tsne.fit_transform(data_subset)\n",
    "print(tsne_results[1:10])\n",
    "print('t-SNE done! Time elapsed: {} seconds'.format(time.time()-time_start))"
   ]
  },
  {
   "cell_type": "code",
   "execution_count": 10,
   "metadata": {},
   "outputs": [
    {
     "data": {
      "text/plain": [
       "<matplotlib.axes._subplots.AxesSubplot at 0x21d231dc6a0>"
      ]
     },
     "execution_count": 10,
     "metadata": {},
     "output_type": "execute_result"
    },
    {
     "data": {
      "image/png": "[encoded data removed]",
      "text/plain": [
       "<Figure size 1152x720 with 1 Axes>"
      ]
     },
     "metadata": {
      "needs_background": "light"
     },
     "output_type": "display_data"
    }
   ],
   "source": [
    "df_subset['tsne-2d-one'] = tsne_results[:,0]\n",
    "df_subset['tsne-2d-two'] = tsne_results[:,1]\n",
    "plt.figure(figsize=(16,10))\n",
    "sns.scatterplot(\n",
    "    x=\"tsne-2d-one\", y=\"tsne-2d-two\",\n",
    "    hue=\"y\",\n",
    "    palette=sns.color_palette(\"hls\", 2),\n",
    "    data=df_subset,\n",
    "    legend=\"full\",\n",
    "    alpha=0.3\n",
    ")"
   ]
  },
  {
   "cell_type": "code",
   "execution_count": null,
   "metadata": {},
   "outputs": [],
   "source": []
  }
 ],
 "metadata": {
  "kernelspec": {
   "display_name": "Python 3",
   "language": "python",
   "name": "python3"
  },
  "language_info": {
   "codemirror_mode": {
    "name": "ipython",
    "version": 3
   },
   "file_extension": ".py",
   "mimetype": "text/x-python",
   "name": "python",
   "nbconvert_exporter": "python",
   "pygments_lexer": "ipython3",
   "version": "3.7.1"
  }
 },
 "nbformat": 4,
 "nbformat_minor": 2
}
