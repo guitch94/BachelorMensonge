{
 "cells": [
  {
   "cell_type": "code",
   "execution_count": 1,
   "metadata": {},
   "outputs": [],
   "source": [
    "from __future__ import print_function\n",
    "import time\n",
    "import numpy as np\n",
    "import pandas as pd\n",
    "import seaborn as sns\n",
    "import sys\n",
    "import matplotlib.pyplot as plt\n",
    "import os\n",
    "\n",
    "\n",
    "from sklearn.datasets import fetch_openml\n",
    "from sklearn.decomposition import PCA\n",
    "from sklearn.manifold import TSNE\n",
    "\n",
    "from mpl_toolkits.mplot3d import Axes3D\n"
   ]
  },
  {
   "cell_type": "code",
   "execution_count": 2,
   "metadata": {},
   "outputs": [],
   "source": [
    "NB_MULTI_TAB = 10\n",
    "NB_FRAME = 15\n",
    "NB_ZONE_VISAGE = 17\n",
    "PATH = \"Resultats/\"\n",
    "\n",
    "def recupResultats(path, videoName):\n",
    "\n",
    "    fichier = open(path + videoName, \"r\")\n",
    "    strRes = fichier.read()\n",
    "    debutMultiTab = 0\n",
    "\n",
    "    resultats = np.empty([NB_MULTI_TAB, NB_ZONE_VISAGE, NB_FRAME])\n",
    "\n",
    "    for i in range(NB_MULTI_TAB):\n",
    "        debutMultiTab = strRes.find(\"[[\", debutMultiTab + 1)\n",
    "        debutTab = 0\n",
    "        finTab = 0\n",
    "        for j in range(NB_ZONE_VISAGE):\n",
    "            if j == 0:\n",
    "                debutTab = strRes.find(\"[\", debutMultiTab + debutTab + 1)\n",
    "                finTab = strRes.find(\"]\", debutMultiTab + finTab + 2)\n",
    "            else:\n",
    "                debutTab = strRes.find(\"[\", debutTab + 1)\n",
    "                finTab = strRes.find(\"]\", finTab + 2)\n",
    "\n",
    "            resultats[i][j] = np.fromstring(strRes[debutTab + 1: finTab], dtype=float, sep=' ')\n",
    "\n",
    "    fichier.close()\n",
    "    return resultats\n",
    "\n",
    "def recupMaxParZone(resultats,ok):\n",
    "\n",
    "    maxParZone = np.empty([NB_ZONE_VISAGE, NB_MULTI_TAB])\n",
    "    for i in range(NB_MULTI_TAB):\n",
    "        for j in range(NB_ZONE_VISAGE):\n",
    "            maxParZone[j][i] = np.max(resultats[i][j])\n",
    "    return maxParZone"
   ]
  },
  {
   "cell_type": "code",
   "execution_count": 3,
   "metadata": {},
   "outputs": [],
   "source": [
    "lstVideo = os.listdir(PATH)\n",
    "lstVideo.sort()\n",
    "lstResultats = np.empty([len(lstVideo),NB_MULTI_TAB, NB_ZONE_VISAGE, NB_FRAME])\n",
    "lstMaxParZone = np.empty([len(lstVideo), NB_ZONE_VISAGE, NB_MULTI_TAB])\n",
    "y = [''] * len(lstVideo)\n",
    "for i, video in enumerate(lstVideo):\n",
    "    lstResultats[i] = recupResultats(PATH,video)\n",
    "    lstMaxParZone[i] = recupMaxParZone(lstResultats[i], i)\n",
    "    y[i] = video[0]"
   ]
  },
  {
   "cell_type": "code",
   "execution_count": 4,
   "metadata": {},
   "outputs": [
    {
     "name": "stdout",
     "output_type": "stream",
     "text": [
      "Size of the dataframe: (39, 172)\n"
     ]
    }
   ],
   "source": [
    "feat_cols = [\"\"] * 170\n",
    "for i in range(NB_ZONE_VISAGE):\n",
    "    for j in range(NB_MULTI_TAB):\n",
    "            feat_cols[i * NB_MULTI_TAB + j] = \"Max_\" + str(j + 1) + \"_Zone_\" + str(i + 1)\n",
    "lstMaxParZone = lstMaxParZone.reshape(len(lstMaxParZone), NB_MULTI_TAB * NB_ZONE_VISAGE)\n",
    "df = pd.DataFrame(lstMaxParZone,columns=feat_cols)\n",
    "df['y'] = y\n",
    "df['label'] = df['y'].apply(lambda i: str(i))\n",
    "#lstMaxParZone, y = None, None\n",
    "print('Size of the dataframe: {}'.format(df.shape))"
   ]
  },
  {
   "cell_type": "code",
   "execution_count": 5,
   "metadata": {},
   "outputs": [
    {
     "name": "stdout",
     "output_type": "stream",
     "text": [
      "[t-SNE] Computing 38 nearest neighbors...\n",
      "[t-SNE] Indexed 39 samples in 0.000s...\n",
      "[t-SNE] Computed neighbors for 39 samples in 0.003s...\n",
      "[t-SNE] Computed conditional probabilities for sample 39 / 39\n",
      "[t-SNE] Mean sigma: 25.057947\n",
      "[t-SNE] KL divergence after 250 iterations with early exaggeration: 50.745045\n",
      "[t-SNE] KL divergence after 1000 iterations: 0.442080\n",
      "t-SNE done! Time elapsed: 0.16356325149536133 seconds\n"
     ]
    }
   ],
   "source": [
    "time_start = time.time()\n",
    "tsne = TSNE(n_components=2, verbose=1, perplexity=30, n_iter=1000)\n",
    "tsne_results = tsne.fit_transform(lstMaxParZone)\n",
    "print('t-SNE done! Time elapsed: {} seconds'.format(time.time()-time_start))"
   ]
  },
  {
   "cell_type": "code",
   "execution_count": 6,
   "metadata": {},
   "outputs": [
    {
     "data": {
      "text/plain": [
       "<matplotlib.axes._subplots.AxesSubplot at 0x23b6d8be0f0>"
      ]
     },
     "execution_count": 6,
     "metadata": {},
     "output_type": "execute_result"
    },
    {
     "data": {
      "image/png": "[encoded data removed]",
      "text/plain": [
       "<Figure size 1152x720 with 1 Axes>"
      ]
     },
     "metadata": {
      "needs_background": "light"
     },
     "output_type": "display_data"
    }
   ],
   "source": [
    "df['tsne-2d-one'] = tsne_results[:,0]\n",
    "df['tsne-2d-two'] = tsne_results[:,1]\n",
    "plt.figure(figsize=(16,10))\n",
    "sns.scatterplot(\n",
    "    x=\"tsne-2d-one\", y=\"tsne-2d-two\",\n",
    "    hue=\"y\",\n",
    "    palette=sns.color_palette(\"hls\", 2),\n",
    "    data=df,\n",
    "    legend=\"full\",\n",
    "    alpha=0.3\n",
    ")"
   ]
  },
  {
   "cell_type": "code",
   "execution_count": 7,
   "metadata": {},
   "outputs": [],
   "source": [
    "np.random.seed(42)\n",
    "rndperm = np.random.permutation(df.shape[0])\n",
    "N = 37\n",
    "df_subset = df.loc[rndperm[:N],:].copy()\n",
    "data_subset = df_subset[feat_cols].values\n"
   ]
  },
  {
   "cell_type": "code",
   "execution_count": 8,
   "metadata": {},
   "outputs": [
    {
     "name": "stdout",
     "output_type": "stream",
     "text": [
      "[t-SNE] Computing 36 nearest neighbors...\n",
      "[t-SNE] Indexed 37 samples in 0.000s...\n",
      "[t-SNE] Computed neighbors for 37 samples in 0.001s...\n",
      "[t-SNE] Computed conditional probabilities for sample 37 / 37\n",
      "[t-SNE] Mean sigma: 1125899906842624.000000\n",
      "[t-SNE] KL divergence after 250 iterations with early exaggeration: 47.911144\n",
      "[t-SNE] KL divergence after 300 iterations: 0.686328\n",
      "[[  21.402735 -109.07864 ]\n",
      " [  78.26653    79.43381 ]\n",
      " [  38.639988   59.63186 ]\n",
      " [  17.12466   -20.548866]\n",
      " [  16.719893  -63.54246 ]\n",
      " [  81.52996   -31.383617]\n",
      " [ 124.706566  -30.55682 ]\n",
      " [-176.0309    198.29929 ]\n",
      " [ -58.894722  -92.610886]]\n",
      "t-SNE done! Time elapsed: 0.06179308891296387 seconds\n"
     ]
    }
   ],
   "source": [
    "time_start = time.time()\n",
    "tsne = TSNE(n_components=2, verbose=1, perplexity=40, n_iter=300)\n",
    "tsne_results = tsne.fit_transform(data_subset)\n",
    "print(tsne_results[1:10])\n",
    "print('t-SNE done! Time elapsed: {} seconds'.format(time.time()-time_start))"
   ]
  },
  {
   "cell_type": "code",
   "execution_count": 9,
   "metadata": {},
   "outputs": [
    {
     "data": {
      "text/plain": [
       "<matplotlib.axes._subplots.AxesSubplot at 0x23b6ec92940>"
      ]
     },
     "execution_count": 9,
     "metadata": {},
     "output_type": "execute_result"
    },
    {
     "data": {
      "image/png": "[encoded data removed]",
      "text/plain": [
       "<Figure size 1152x720 with 1 Axes>"
      ]
     },
     "metadata": {
      "needs_background": "light"
     },
     "output_type": "display_data"
    }
   ],
   "source": [
    "df_subset['tsne-2d-one'] = tsne_results[:,0]\n",
    "df_subset['tsne-2d-two'] = tsne_results[:,1]\n",
    "plt.figure(figsize=(16,10))\n",
    "sns.scatterplot(\n",
    "    x=\"tsne-2d-one\", y=\"tsne-2d-two\",\n",
    "    hue=\"y\",\n",
    "    palette=sns.color_palette(\"hls\", 2),\n",
    "    data=df_subset,\n",
    "    legend=\"full\",\n",
    "    alpha=0.3\n",
    ")"
   ]
  },
  {
   "cell_type": "code",
   "execution_count": null,
   "metadata": {},
   "outputs": [],
   "source": []
  }
 ],
 "metadata": {
  "kernelspec": {
   "display_name": "Python 3",
   "language": "python",
   "name": "python3"
  },
  "language_info": {
   "codemirror_mode": {
    "name": "ipython",
    "version": 3
   },
   "file_extension": ".py",
   "mimetype": "text/x-python",
   "name": "python",
   "nbconvert_exporter": "python",
   "pygments_lexer": "ipython3",
   "version": "3.7.1"
  }
 },
 "nbformat": 4,
 "nbformat_minor": 2
}
