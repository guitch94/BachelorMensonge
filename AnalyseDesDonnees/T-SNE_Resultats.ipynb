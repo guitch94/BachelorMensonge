{
 "cells": [
  {
   "cell_type": "markdown",
   "metadata": {},
   "source": [
    "# T-SNE - Librairie & fonctions utiles"
   ]
  },
  {
   "cell_type": "code",
   "execution_count": 1,
   "metadata": {},
   "outputs": [],
   "source": [
    "from __future__ import print_function\n",
    "import time\n",
    "import numpy as np\n",
    "import pandas as pd\n",
    "import seaborn as sns\n",
    "import sys\n",
    "import matplotlib.pyplot as plt\n",
    "import os\n",
    "\n",
    "\n",
    "from sklearn.datasets import fetch_openml\n",
    "from sklearn.decomposition import PCA\n",
    "from sklearn.manifold import TSNE\n",
    "\n",
    "from mpl_toolkits.mplot3d import Axes3D\n"
   ]
  },
  {
   "cell_type": "code",
   "execution_count": 2,
   "metadata": {},
   "outputs": [],
   "source": [
    "NB_MULTI_TAB = 10\n",
    "NB_FRAME = 15\n",
    "NB_ZONE_VISAGE = 17\n",
    "\n",
    "def recupResultats(path, videoName):\n",
    "\n",
    "    fichier = open(path + videoName, \"r\")\n",
    "    strRes = fichier.read()\n",
    "    debutMultiTab = 0\n",
    "\n",
    "    resultats = np.empty([NB_MULTI_TAB, NB_ZONE_VISAGE, NB_FRAME])\n",
    "\n",
    "    for i in range(NB_MULTI_TAB):\n",
    "        debutMultiTab = strRes.find(\"[[\", debutMultiTab + 1)\n",
    "        debutTab = 0\n",
    "        finTab = 0\n",
    "        for j in range(NB_ZONE_VISAGE):\n",
    "            if j == 0:\n",
    "                debutTab = strRes.find(\"[\", debutMultiTab + debutTab + 1)\n",
    "                finTab = strRes.find(\"]\", debutMultiTab + finTab + 2)\n",
    "            else:\n",
    "                debutTab = strRes.find(\"[\", debutTab + 1)\n",
    "                finTab = strRes.find(\"]\", finTab + 2)\n",
    "\n",
    "            resultats[i][j] = np.fromstring(strRes[debutTab + 1: finTab], dtype=float, sep=' ')\n",
    "\n",
    "    fichier.close()\n",
    "    return resultats\n",
    "\n",
    "def recupMaxParZone(resultats,ok):\n",
    "\n",
    "    maxParZone = np.empty([NB_ZONE_VISAGE, NB_MULTI_TAB])\n",
    "    for i in range(NB_MULTI_TAB):\n",
    "        for j in range(NB_ZONE_VISAGE):\n",
    "            maxParZone[j][i] = np.max(resultats[i][j])\n",
    "    return maxParZone"
   ]
  },
  {
   "cell_type": "markdown",
   "metadata": {},
   "source": [
    "# Test avec les données provenant de l'application mobile"
   ]
  },
  {
   "cell_type": "code",
   "execution_count": 3,
   "metadata": {},
   "outputs": [],
   "source": [
    "PATH = \"ResultatsMobile/\"\n",
    "lstVideo = [f for f in os.listdir(PATH) if os.path.isfile(os.path.join(PATH, f))]\n",
    "lstVideo.sort()\n",
    "lstResultats = np.empty([len(lstVideo),NB_MULTI_TAB, NB_ZONE_VISAGE, NB_FRAME])\n",
    "lstMaxParZone = np.empty([len(lstVideo), NB_ZONE_VISAGE, NB_MULTI_TAB])\n",
    "y = [''] * len(lstVideo)\n",
    "for i, video in enumerate(lstVideo):\n",
    "    lstResultats[i] = recupResultats(PATH,video)\n",
    "    lstMaxParZone[i] = recupMaxParZone(lstResultats[i], i)\n",
    "    y[i] = video[0]"
   ]
  },
  {
   "cell_type": "code",
   "execution_count": 4,
   "metadata": {},
   "outputs": [
    {
     "name": "stdout",
     "output_type": "stream",
     "text": [
      "Size of the dataframe: (39, 172)\n"
     ]
    }
   ],
   "source": [
    "feat_cols = [\"\"] * 170\n",
    "for i in range(NB_ZONE_VISAGE):\n",
    "    for j in range(NB_MULTI_TAB):\n",
    "            feat_cols[i * NB_MULTI_TAB + j] = \"Max_\" + str(j + 1) + \"_Zone_\" + str(i + 1)\n",
    "lstMaxParZone = lstMaxParZone.reshape(len(lstMaxParZone), NB_MULTI_TAB * NB_ZONE_VISAGE)\n",
    "df = pd.DataFrame(lstMaxParZone,columns=feat_cols)\n",
    "df['y'] = y\n",
    "df['label'] = df['y'].apply(lambda i: str(i))\n",
    "#lstMaxParZone, y = None, None\n",
    "print('Size of the dataframe: {}'.format(df.shape))"
   ]
  },
  {
   "cell_type": "code",
   "execution_count": 5,
   "metadata": {},
   "outputs": [
    {
     "name": "stdout",
     "output_type": "stream",
     "text": [
      "[t-SNE] Computing 38 nearest neighbors...\n",
      "[t-SNE] Indexed 39 samples in 0.000s...\n",
      "[t-SNE] Computed neighbors for 39 samples in 0.011s...\n",
      "[t-SNE] Computed conditional probabilities for sample 39 / 39\n",
      "[t-SNE] Mean sigma: 25.057947\n",
      "[t-SNE] KL divergence after 250 iterations with early exaggeration: 50.777443\n",
      "[t-SNE] KL divergence after 1000 iterations: 0.439152\n",
      "t-SNE done! Time elapsed: 0.16755080223083496 seconds\n"
     ]
    }
   ],
   "source": [
    "time_start = time.time()\n",
    "tsne = TSNE(n_components=2, verbose=1, perplexity=30, n_iter=1000)\n",
    "tsne_results = tsne.fit_transform(lstMaxParZone)\n",
    "print('t-SNE done! Time elapsed: {} seconds'.format(time.time()-time_start))"
   ]
  },
  {
   "cell_type": "code",
   "execution_count": 6,
   "metadata": {},
   "outputs": [
    {
     "data": {
      "text/plain": [
       "<matplotlib.axes._subplots.AxesSubplot at 0x19fca992b70>"
      ]
     },
     "execution_count": 6,
     "metadata": {},
     "output_type": "execute_result"
    },
    {
     "data": {
      "image/png": "[encoded data removed]",
      "text/plain": [
       "<Figure size 1152x720 with 1 Axes>"
      ]
     },
     "metadata": {
      "needs_background": "light"
     },
     "output_type": "display_data"
    }
   ],
   "source": [
    "df['tsne-2d-one'] = tsne_results[:,0]\n",
    "df['tsne-2d-two'] = tsne_results[:,1]\n",
    "plt.figure(figsize=(16,10))\n",
    "sns.scatterplot(\n",
    "    x=\"tsne-2d-one\", y=\"tsne-2d-two\",\n",
    "    hue=\"y\",\n",
    "    palette=sns.color_palette(\"hls\", 2),\n",
    "    data=df,\n",
    "    legend=\"full\",\n",
    "    alpha=0.3\n",
    ")"
   ]
  },
  {
   "cell_type": "markdown",
   "metadata": {},
   "source": [
    "# Test avec les données contenant plus de FPS"
   ]
  },
  {
   "cell_type": "code",
   "execution_count": 10,
   "metadata": {},
   "outputs": [
    {
     "name": "stdout",
     "output_type": "stream",
     "text": [
      "Size of the dataframe: (40, 172)\n"
     ]
    }
   ],
   "source": [
    "PATH = \"ResultatsPlusFPS/\"\n",
    "lstVideo = [f for f in os.listdir(PATH) if os.path.isfile(os.path.join(PATH, f))]\n",
    "lstVideo.sort()\n",
    "lstResultats = np.empty([len(lstVideo),NB_MULTI_TAB, NB_ZONE_VISAGE, NB_FRAME])\n",
    "lstMaxParZone = np.empty([len(lstVideo), NB_ZONE_VISAGE, NB_MULTI_TAB])\n",
    "y = [''] * len(lstVideo)\n",
    "for i, video in enumerate(lstVideo):\n",
    "    lstResultats[i] = recupResultats(PATH,video)\n",
    "    lstMaxParZone[i] = recupMaxParZone(lstResultats[i], i)\n",
    "    y[i] = video[0]\n",
    "feat_cols = [\"\"] * 170\n",
    "for i in range(NB_ZONE_VISAGE):\n",
    "    for j in range(NB_MULTI_TAB):\n",
    "            feat_cols[i * NB_MULTI_TAB + j] = \"Max_\" + str(j + 1) + \"_Zone_\" + str(i + 1)\n",
    "lstMaxParZone = lstMaxParZone.reshape(len(lstMaxParZone), NB_MULTI_TAB * NB_ZONE_VISAGE)\n",
    "df = pd.DataFrame(lstMaxParZone,columns=feat_cols)\n",
    "df['y'] = y\n",
    "df['label'] = df['y'].apply(lambda i: str(i))\n",
    "#lstMaxParZone, y = None, None\n",
    "print('Size of the dataframe: {}'.format(df.shape))\n"
   ]
  },
  {
   "cell_type": "code",
   "execution_count": 11,
   "metadata": {},
   "outputs": [
    {
     "name": "stdout",
     "output_type": "stream",
     "text": [
      "[t-SNE] Computing 39 nearest neighbors...\n",
      "[t-SNE] Indexed 40 samples in 0.000s...\n",
      "[t-SNE] Computed neighbors for 40 samples in 0.002s...\n",
      "[t-SNE] Computed conditional probabilities for sample 40 / 40\n",
      "[t-SNE] Mean sigma: 75.053461\n",
      "[t-SNE] KL divergence after 250 iterations with early exaggeration: 46.787258\n",
      "[t-SNE] KL divergence after 1000 iterations: 0.468954\n",
      "t-SNE done! Time elapsed: 0.1605696678161621 seconds\n"
     ]
    }
   ],
   "source": [
    "time_start = time.time()\n",
    "tsne = TSNE(n_components=2, verbose=1, perplexity=30, n_iter=1000)\n",
    "tsne_results = tsne.fit_transform(lstMaxParZone)\n",
    "print('t-SNE done! Time elapsed: {} seconds'.format(time.time()-time_start))"
   ]
  },
  {
   "cell_type": "code",
   "execution_count": 12,
   "metadata": {},
   "outputs": [
    {
     "data": {
      "text/plain": [
       "<matplotlib.axes._subplots.AxesSubplot at 0x19fcbe09fd0>"
      ]
     },
     "execution_count": 12,
     "metadata": {},
     "output_type": "execute_result"
    },
    {
     "data": {
      "image/png": "[encoded data removed]",
      "text/plain": [
       "<Figure size 1152x720 with 1 Axes>"
      ]
     },
     "metadata": {
      "needs_background": "light"
     },
     "output_type": "display_data"
    }
   ],
   "source": [
    "df['tsne-2d-one'] = tsne_results[:,0]\n",
    "df['tsne-2d-two'] = tsne_results[:,1]\n",
    "plt.figure(figsize=(16,10))\n",
    "sns.scatterplot(\n",
    "    x=\"tsne-2d-one\", y=\"tsne-2d-two\",\n",
    "    hue=\"y\",\n",
    "    palette=sns.color_palette(\"hls\", 2),\n",
    "    data=df,\n",
    "    legend=\"full\",\n",
    "    alpha=0.3\n",
    ")"
   ]
  },
  {
   "cell_type": "code",
   "execution_count": null,
   "metadata": {},
   "outputs": [],
   "source": []
  }
 ],
 "metadata": {
  "kernelspec": {
   "display_name": "Python 3",
   "language": "python",
   "name": "python3"
  },
  "language_info": {
   "codemirror_mode": {
    "name": "ipython",
    "version": 3
   },
   "file_extension": ".py",
   "mimetype": "text/x-python",
   "name": "python",
   "nbconvert_exporter": "python",
   "pygments_lexer": "ipython3",
   "version": "3.7.1"
  }
 },
 "nbformat": 4,
 "nbformat_minor": 2
}
